{
 "cells": [
  {
   "cell_type": "code",
   "execution_count": 1,
   "metadata": {},
   "outputs": [],
   "source": [
    "% matplotlib inline"
   ]
  },
  {
   "cell_type": "code",
   "execution_count": 2,
   "metadata": {},
   "outputs": [],
   "source": [
    "import numpy as np\n",
    "import time\n",
    "import seaborn as sns\n",
    "import matplotlib.pyplot as plt\n",
    "import scipy.stats as stats\n",
    "import pandas as pd\n",
    "from scipy.stats import binom\n",
    "import collections\n",
    "from scipy.stats import norm\n",
    "\n",
    "sns.set(style=\"whitegrid\")"
   ]
  },
  {
   "cell_type": "markdown",
   "metadata": {},
   "source": [
    "## Length of string beans "
   ]
  },
  {
   "cell_type": "markdown",
   "metadata": {},
   "source": [
    "#### Generating story:\n",
    "I bought a bag of string beans from a grocery store this weekend. I assume that the length of the beans could be modeled by normal distribution as human height (technically log-normal distribution since the length can't be negative. But as human height, I won't transform the length of string beans).\n",
    "\n",
    "I randomly measured 53 beans from the bag and recorded their length in centimeters."
   ]
  },
  {
   "cell_type": "code",
   "execution_count": 3,
   "metadata": {},
   "outputs": [],
   "source": [
    "beans = pd.read_csv(\"length.csv\")"
   ]
  },
  {
   "cell_type": "code",
   "execution_count": 4,
   "metadata": {},
   "outputs": [
    {
     "data": {
      "text/plain": [
       "count    53.000000\n",
       "mean     11.884906\n",
       "std       1.487822\n",
       "min       8.300000\n",
       "25%      11.100000\n",
       "50%      12.100000\n",
       "75%      13.000000\n",
       "max      14.400000\n",
       "Name: length, dtype: float64"
      ]
     },
     "execution_count": 4,
     "metadata": {},
     "output_type": "execute_result"
    }
   ],
   "source": [
    "beans[\"length\"].describe()"
   ]
  },
  {
   "cell_type": "code",
   "execution_count": 5,
   "metadata": {
    "scrolled": false
   },
   "outputs": [
    {
     "data": {
      "image/png": "[encoded data removed]",
      "text/plain": [
       "<Figure size 720x432 with 1 Axes>"
      ]
     },
     "metadata": {},
     "output_type": "display_data"
    }
   ],
   "source": [
    "figure = plt.figure(figsize=(10, 6))\n",
    "\n",
    "axes = figure.add_subplot(1, 1, 1)\n",
    "n, bins, patches = axes.hist(beans[ \"length\"], density=True, color=\"dimgray\", bins=15)\n",
    "axes.set_ylabel( \"Density\", fontsize=15)\n",
    "axes.set_xlabel( \"Bean Length (cm)\", fontsize=15)\n",
    "\n",
    "xs = [(b2 + b1)/2 for b1, b2 in zip(bins, bins[1:])]    \n",
    "\n",
    "mean = np.mean(beans[\"length\"])\n",
    "std  = np.std(beans[\"length\"])\n",
    "ys = [norm.pdf( k, loc=mean, scale=std) for k in xs]\n",
    "axes.plot(xs, ys, color=\"darkred\")\n",
    "\n",
    "plt.show()\n",
    "plt.close()"
   ]
  },
  {
   "cell_type": "markdown",
   "metadata": {},
   "source": [
    "The lengths of the 53 samples of string beans don't fit a normal distribution very well. The data has a long tail on the short length side and is bulky on the long length side. The distribution is skewed to the left. The normal distribution also overestimated the number of beans around the mean. "
   ]
  },
  {
   "cell_type": "markdown",
   "metadata": {},
   "source": [
    "As shown in descriptive statistics, mean is 11.88 and standard deviation is 1.49."
   ]
  },
  {
   "cell_type": "markdown",
   "metadata": {},
   "source": [
    "## Distribution of blue M&Ms"
   ]
  },
  {
   "cell_type": "markdown",
   "metadata": {},
   "source": [
    "#### Generating story:\n",
    "I bought a bag of dark chocolate M&Ms from Target. If I treat this bag of candy as a population, the proportion of each color can be known by simply counting them. Then I can simulate a series of Bernoulli trials using this bag of M&Ms. Suppose my color of interest is blue. After mixing the bag really well, I randomly take out a candy, record its color, then put it back into the bag. I repeat this action for 19 more times and then count how many times of these 20 times the candy I took out were blue. The probability of the candy being blue should follow Binomial distribution because binomial distribution is the distribution of the probability of observing k successes in n independent trials with a probability p of success."
   ]
  },
  {
   "cell_type": "markdown",
   "metadata": {},
   "source": [
    "#### Experiment procedures:\n",
    "1. Count each color:"
   ]
  },
  {
   "cell_type": "code",
   "execution_count": 6,
   "metadata": {},
   "outputs": [],
   "source": [
    "pd.set_option('display.float_format', lambda x: '%.3f' % x)"
   ]
  },
  {
   "cell_type": "code",
   "execution_count": 7,
   "metadata": {},
   "outputs": [
    {
     "data": {
      "text/html": [
       "<div>\n",
       "<style scoped>\n",
       "    .dataframe tbody tr th:only-of-type {\n",
       "        vertical-align: middle;\n",
       "    }\n",
       "\n",
       "    .dataframe tbody tr th {\n",
       "        vertical-align: top;\n",
       "    }\n",
       "\n",
       "    .dataframe thead th {\n",
       "        text-align: right;\n",
       "    }\n",
       "</style>\n",
       "<table border=\"1\" class=\"dataframe\">\n",
       "  <thead>\n",
       "    <tr style=\"text-align: right;\">\n",
       "      <th></th>\n",
       "      <th>color</th>\n",
       "      <th>count</th>\n",
       "      <th>proportion</th>\n",
       "    </tr>\n",
       "  </thead>\n",
       "  <tbody>\n",
       "    <tr>\n",
       "      <th>0</th>\n",
       "      <td>blue</td>\n",
       "      <td>102</td>\n",
       "      <td>0.302</td>\n",
       "    </tr>\n",
       "    <tr>\n",
       "      <th>1</th>\n",
       "      <td>orange</td>\n",
       "      <td>92</td>\n",
       "      <td>0.272</td>\n",
       "    </tr>\n",
       "    <tr>\n",
       "      <th>2</th>\n",
       "      <td>red</td>\n",
       "      <td>51</td>\n",
       "      <td>0.151</td>\n",
       "    </tr>\n",
       "    <tr>\n",
       "      <th>3</th>\n",
       "      <td>green</td>\n",
       "      <td>45</td>\n",
       "      <td>0.133</td>\n",
       "    </tr>\n",
       "    <tr>\n",
       "      <th>4</th>\n",
       "      <td>brown</td>\n",
       "      <td>38</td>\n",
       "      <td>0.112</td>\n",
       "    </tr>\n",
       "    <tr>\n",
       "      <th>5</th>\n",
       "      <td>yellow</td>\n",
       "      <td>10</td>\n",
       "      <td>0.030</td>\n",
       "    </tr>\n",
       "  </tbody>\n",
       "</table>\n",
       "</div>"
      ],
      "text/plain": [
       "    color  count  proportion\n",
       "0    blue    102       0.302\n",
       "1  orange     92       0.272\n",
       "2     red     51       0.151\n",
       "3   green     45       0.133\n",
       "4   brown     38       0.112\n",
       "5  yellow     10       0.030"
      ]
     },
     "execution_count": 7,
     "metadata": {},
     "output_type": "execute_result"
    }
   ],
   "source": [
    "colors = pd.read_csv(\"colors.csv\")\n",
    "colors"
   ]
  },
  {
   "cell_type": "markdown",
   "metadata": {},
   "source": [
    "Blue and orange are the most popular colors in this bag. I picked blue as the color of interest for this experiment. "
   ]
  },
  {
   "cell_type": "markdown",
   "metadata": {},
   "source": [
    "2. Bernoulli trials.\n",
    "\n",
    "20 independent drawings were performed as described above and The number of times a blue candy was drawn was counted. This process was repeated 30 times and the results(30 counts of blue) was recorded in \"blues.csv\""
   ]
  },
  {
   "cell_type": "code",
   "execution_count": 8,
   "metadata": {
    "scrolled": true
   },
   "outputs": [
    {
     "data": {
      "text/html": [
       "<div>\n",
       "<style scoped>\n",
       "    .dataframe tbody tr th:only-of-type {\n",
       "        vertical-align: middle;\n",
       "    }\n",
       "\n",
       "    .dataframe tbody tr th {\n",
       "        vertical-align: top;\n",
       "    }\n",
       "\n",
       "    .dataframe thead th {\n",
       "        text-align: right;\n",
       "    }\n",
       "</style>\n",
       "<table border=\"1\" class=\"dataframe\">\n",
       "  <thead>\n",
       "    <tr style=\"text-align: right;\">\n",
       "      <th></th>\n",
       "      <th>blues</th>\n",
       "    </tr>\n",
       "  </thead>\n",
       "  <tbody>\n",
       "    <tr>\n",
       "      <th>0</th>\n",
       "      <td>6</td>\n",
       "    </tr>\n",
       "    <tr>\n",
       "      <th>1</th>\n",
       "      <td>9</td>\n",
       "    </tr>\n",
       "    <tr>\n",
       "      <th>2</th>\n",
       "      <td>4</td>\n",
       "    </tr>\n",
       "    <tr>\n",
       "      <th>3</th>\n",
       "      <td>5</td>\n",
       "    </tr>\n",
       "    <tr>\n",
       "      <th>4</th>\n",
       "      <td>7</td>\n",
       "    </tr>\n",
       "    <tr>\n",
       "      <th>5</th>\n",
       "      <td>5</td>\n",
       "    </tr>\n",
       "    <tr>\n",
       "      <th>6</th>\n",
       "      <td>8</td>\n",
       "    </tr>\n",
       "    <tr>\n",
       "      <th>7</th>\n",
       "      <td>5</td>\n",
       "    </tr>\n",
       "    <tr>\n",
       "      <th>8</th>\n",
       "      <td>7</td>\n",
       "    </tr>\n",
       "    <tr>\n",
       "      <th>9</th>\n",
       "      <td>7</td>\n",
       "    </tr>\n",
       "    <tr>\n",
       "      <th>10</th>\n",
       "      <td>6</td>\n",
       "    </tr>\n",
       "    <tr>\n",
       "      <th>11</th>\n",
       "      <td>4</td>\n",
       "    </tr>\n",
       "    <tr>\n",
       "      <th>12</th>\n",
       "      <td>8</td>\n",
       "    </tr>\n",
       "    <tr>\n",
       "      <th>13</th>\n",
       "      <td>4</td>\n",
       "    </tr>\n",
       "    <tr>\n",
       "      <th>14</th>\n",
       "      <td>10</td>\n",
       "    </tr>\n",
       "    <tr>\n",
       "      <th>15</th>\n",
       "      <td>6</td>\n",
       "    </tr>\n",
       "    <tr>\n",
       "      <th>16</th>\n",
       "      <td>5</td>\n",
       "    </tr>\n",
       "    <tr>\n",
       "      <th>17</th>\n",
       "      <td>11</td>\n",
       "    </tr>\n",
       "    <tr>\n",
       "      <th>18</th>\n",
       "      <td>6</td>\n",
       "    </tr>\n",
       "    <tr>\n",
       "      <th>19</th>\n",
       "      <td>1</td>\n",
       "    </tr>\n",
       "    <tr>\n",
       "      <th>20</th>\n",
       "      <td>5</td>\n",
       "    </tr>\n",
       "    <tr>\n",
       "      <th>21</th>\n",
       "      <td>7</td>\n",
       "    </tr>\n",
       "    <tr>\n",
       "      <th>22</th>\n",
       "      <td>13</td>\n",
       "    </tr>\n",
       "    <tr>\n",
       "      <th>23</th>\n",
       "      <td>6</td>\n",
       "    </tr>\n",
       "    <tr>\n",
       "      <th>24</th>\n",
       "      <td>6</td>\n",
       "    </tr>\n",
       "    <tr>\n",
       "      <th>25</th>\n",
       "      <td>5</td>\n",
       "    </tr>\n",
       "    <tr>\n",
       "      <th>26</th>\n",
       "      <td>3</td>\n",
       "    </tr>\n",
       "    <tr>\n",
       "      <th>27</th>\n",
       "      <td>9</td>\n",
       "    </tr>\n",
       "    <tr>\n",
       "      <th>28</th>\n",
       "      <td>2</td>\n",
       "    </tr>\n",
       "    <tr>\n",
       "      <th>29</th>\n",
       "      <td>8</td>\n",
       "    </tr>\n",
       "  </tbody>\n",
       "</table>\n",
       "</div>"
      ],
      "text/plain": [
       "    blues\n",
       "0       6\n",
       "1       9\n",
       "2       4\n",
       "3       5\n",
       "4       7\n",
       "5       5\n",
       "6       8\n",
       "7       5\n",
       "8       7\n",
       "9       7\n",
       "10      6\n",
       "11      4\n",
       "12      8\n",
       "13      4\n",
       "14     10\n",
       "15      6\n",
       "16      5\n",
       "17     11\n",
       "18      6\n",
       "19      1\n",
       "20      5\n",
       "21      7\n",
       "22     13\n",
       "23      6\n",
       "24      6\n",
       "25      5\n",
       "26      3\n",
       "27      9\n",
       "28      2\n",
       "29      8"
      ]
     },
     "execution_count": 8,
     "metadata": {},
     "output_type": "execute_result"
    }
   ],
   "source": [
    "blues = pd.read_csv(\"blues.csv\")\n",
    "blues"
   ]
  },
  {
   "cell_type": "markdown",
   "metadata": {},
   "source": [
    "3. Plot the data. Theoretically, possible counts of blue candy in each 20 drawings range from 0 to 20. I padded the proportion of the missing counts with 0."
   ]
  },
  {
   "cell_type": "code",
   "execution_count": 9,
   "metadata": {},
   "outputs": [
    {
     "name": "stdout",
     "output_type": "stream",
     "text": [
      "21\n"
     ]
    }
   ],
   "source": [
    "counts = blues[\"blues\"].value_counts().sort_index()\n",
    "for i in range(0, 21):\n",
    "    if i not in counts:\n",
    "        counts[i] = 0\n",
    "print (len(counts))"
   ]
  },
  {
   "cell_type": "code",
   "execution_count": 10,
   "metadata": {},
   "outputs": [],
   "source": [
    "proportions = blues[\"blues\"].value_counts(normalize=True).sort_index()\n",
    "for i in range(0, 21):\n",
    "    if i not in proportions:\n",
    "        proportions[i] = 0\n",
    "proportions = list(collections.OrderedDict(sorted(proportions.items())).values())"
   ]
  },
  {
   "cell_type": "markdown",
   "metadata": {},
   "source": [
    "Plot the experimental data in a bar chart and put the reference binomial distribution on top of the bar chart"
   ]
  },
  {
   "cell_type": "code",
   "execution_count": 11,
   "metadata": {},
   "outputs": [
    {
     "data": {
      "image/png": "[encoded data removed]",
      "text/plain": [
       "<Figure size 720x432 with 1 Axes>"
      ]
     },
     "metadata": {},
     "output_type": "display_data"
    }
   ],
   "source": [
    "x = range(len(counts))\n",
    "width = 1/1.5\n",
    "\n",
    "figure = plt.figure(figsize=(10, 6))\n",
    "\n",
    "axes = figure.add_subplot(1, 1, 1)\n",
    "axes.bar(x, proportions, width, color=\"dimgray\", align=\"center\")\n",
    "axes.set_xlabel(\"Blue M&Ms\")\n",
    "axes.set_xticks(x)\n",
    "#axes.set_xticklabels(proportions.axes[0])\n",
    "axes.set_ylabel( \"Probability Mass\")\n",
    "axes.xaxis.grid(False) \n",
    "\n",
    "n = 20\n",
    "p = 0.302\n",
    "ys = [binom.pmf( k, n, p) for k in range( 0, n + 1)]\n",
    "axes.plot(x, ys, color=\"darkred\")\n",
    "\n",
    "plt.show()\n",
    "plt.close()"
   ]
  },
  {
   "cell_type": "markdown",
   "metadata": {},
   "source": [
    "My data generally conforms to the binomial distribution. In order to confirm that binomial distribution is a good model for this experiment, I would need to repeat this experiments to gather more data."
   ]
  },
  {
   "cell_type": "markdown",
   "metadata": {},
   "source": [
    "4. Estimate the parameters. "
   ]
  },
  {
   "cell_type": "code",
   "execution_count": 12,
   "metadata": {},
   "outputs": [
    {
     "name": "stdout",
     "output_type": "stream",
     "text": [
      "Mean is 6.04\n",
      "Variance is 4.22\n"
     ]
    }
   ],
   "source": [
    "mean = n* p\n",
    "variance = n*p*(1-p)\n",
    "print (\"Mean is {0:.2f}\".format(mean))\n",
    "print (\"Variance is {0:.2f}\".format(variance))"
   ]
  },
  {
   "cell_type": "code",
   "execution_count": null,
   "metadata": {},
   "outputs": [],
   "source": []
  }
 ],
 "metadata": {
  "kernelspec": {
   "display_name": "Python 3",
   "language": "python",
   "name": "python3"
  },
  "language_info": {
   "codemirror_mode": {
    "name": "ipython",
    "version": 3
   },
   "file_extension": ".py",
   "mimetype": "text/x-python",
   "name": "python",
   "nbconvert_exporter": "python",
   "pygments_lexer": "ipython3",
   "version": "3.6.5"
  }
 },
 "nbformat": 4,
 "nbformat_minor": 2
}
